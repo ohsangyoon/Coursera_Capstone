{
    "cells": [
        {
            "metadata": {},
            "cell_type": "markdown",
            "source": "For this part of the data, I will be using data from a popular Korean TV show where the hosts gave a perfect score to a restuarant within Seoul. "
        },
        {
            "metadata": {},
            "cell_type": "code",
            "source": "\nimport types\nimport pandas as pd\nfrom botocore.client import Config\nimport ibm_boto3\n\ndef __iter__(self): return 0\n\n# @hidden_cell\n# The following code accesses a file in your IBM Cloud Object Storage. It includes your credentials.\n# You might want to remove those credentials before you share the notebook.\nclient_c3567093ff554a1eb8658fca049a47ff = ibm_boto3.client(service_name='s3',\n    ibm_api_key_id='X9z4weGeb2GXc929txvlxyuPfGBPPLS3z59G_J-bMSZL',\n    ibm_auth_endpoint=\"https://iam.cloud.ibm.com/oidc/token\",\n    config=Config(signature_version='oauth'),\n    endpoint_url='https://s3-api.us-geo.objectstorage.service.networklayer.com')\n\nbody = client_c3567093ff554a1eb8658fca049a47ff.get_object(Bucket='capstoneproject-donotdelete-pr-5luqnqc5pjh3ui',Key='Restaurants.xlsx')['Body']\n# add missing __iter__ method, so pandas accepts body as file-like object\nif not hasattr(body, \"__iter__\"): body.__iter__ = types.MethodType( __iter__, body )\n\nseoul_res = pd.read_excel(body)\nseoul_res.head()\n",
            "execution_count": 1,
            "outputs": [
                {
                    "output_type": "execute_result",
                    "execution_count": 1,
                    "data": {
                        "text/plain": "   name        lat         lon\n0  \ub2e4\uc131\uc77c\uc2dd  37.556902  126.932980\n1   \ubd09\uc0b0\uc9d1  37.534425  126.975008\n2  \ucc3d\uace043  37.518958  126.930746\n3  \ub3d5\uac10\uc790\ud0d5  37.541487  127.069284\n4  \ub300\ubcf4\uba85\uac00  37.645687  127.007157",
                        "text/html": "<div>\n<style scoped>\n    .dataframe tbody tr th:only-of-type {\n        vertical-align: middle;\n    }\n\n    .dataframe tbody tr th {\n        vertical-align: top;\n    }\n\n    .dataframe thead th {\n        text-align: right;\n    }\n</style>\n<table border=\"1\" class=\"dataframe\">\n  <thead>\n    <tr style=\"text-align: right;\">\n      <th></th>\n      <th>name</th>\n      <th>lat</th>\n      <th>lon</th>\n    </tr>\n  </thead>\n  <tbody>\n    <tr>\n      <th>0</th>\n      <td>\ub2e4\uc131\uc77c\uc2dd</td>\n      <td>37.556902</td>\n      <td>126.932980</td>\n    </tr>\n    <tr>\n      <th>1</th>\n      <td>\ubd09\uc0b0\uc9d1</td>\n      <td>37.534425</td>\n      <td>126.975008</td>\n    </tr>\n    <tr>\n      <th>2</th>\n      <td>\ucc3d\uace043</td>\n      <td>37.518958</td>\n      <td>126.930746</td>\n    </tr>\n    <tr>\n      <th>3</th>\n      <td>\ub3d5\uac10\uc790\ud0d5</td>\n      <td>37.541487</td>\n      <td>127.069284</td>\n    </tr>\n    <tr>\n      <th>4</th>\n      <td>\ub300\ubcf4\uba85\uac00</td>\n      <td>37.645687</td>\n      <td>127.007157</td>\n    </tr>\n  </tbody>\n</table>\n</div>"
                    },
                    "metadata": {}
                }
            ]
        },
        {
            "metadata": {},
            "cell_type": "code",
            "source": "seoul_res.shape",
            "execution_count": 2,
            "outputs": [
                {
                    "output_type": "execute_result",
                    "execution_count": 2,
                    "data": {
                        "text/plain": "(19, 3)"
                    },
                    "metadata": {}
                }
            ]
        },
        {
            "metadata": {},
            "cell_type": "code",
            "source": "seoul_res",
            "execution_count": 3,
            "outputs": [
                {
                    "output_type": "execute_result",
                    "execution_count": 3,
                    "data": {
                        "text/plain": "           name        lat         lon\n0          \ub2e4\uc131\uc77c\uc2dd  37.556902  126.932980\n1           \ubd09\uc0b0\uc9d1  37.534425  126.975008\n2          \ucc3d\uace043  37.518958  126.930746\n3          \ub3d5\uac10\uc790\ud0d5  37.541487  127.069284\n4          \ub300\ubcf4\uba85\uac00  37.645687  127.007157\n5          \ud574\ub728\ub294\uc9d1  37.590069  127.008404\n6     \uc544\uc774 \ud574\ube0c\uc5b4 \ub4dc\ub9bc  37.498618  127.027888\n7      \uc544\ud604\ub3d9 \uac04\uc7a5\uac8c\uc7a5  37.554600  126.956100\n8         \uc655\uc18c\uae08\uad6c\uc774  37.520409  127.036111\n9      \ub77c\ud2c0\ub9ac\uc5d0 \ubaa8\ub2c8\ud06c  37.526182  127.044877\n10      \ube44\uc2a4\ud2b8\ub85c \ub529\uace0  37.521078  127.019810\n11         \uc904\ub9ac\uc5d0\ub728  37.494720  127.000938\n12          \ucda9\uc8fc\uc9d1  37.586218  127.034549\n13          \uc601\ud654\ub8e8  37.580138  126.969040\n14          \uc77c\ud488\ud5cc  37.484503  127.039193\n15        \ub9bd\uc2a4\ud14c\uc774\ud06c  37.595568  126.964069\n16          \uc624\uac00\uc640  37.572026  126.974335\n17        \uae4c\uc0ac\ub514\ub178\uc544  37.562084  126.923556\n18  \ucda9\ubb34\ub85c \uc8fc\uafb8\ubbf8 \ubd88\uace0\uae30  37.561769  126.992197",
                        "text/html": "<div>\n<style scoped>\n    .dataframe tbody tr th:only-of-type {\n        vertical-align: middle;\n    }\n\n    .dataframe tbody tr th {\n        vertical-align: top;\n    }\n\n    .dataframe thead th {\n        text-align: right;\n    }\n</style>\n<table border=\"1\" class=\"dataframe\">\n  <thead>\n    <tr style=\"text-align: right;\">\n      <th></th>\n      <th>name</th>\n      <th>lat</th>\n      <th>lon</th>\n    </tr>\n  </thead>\n  <tbody>\n    <tr>\n      <th>0</th>\n      <td>\ub2e4\uc131\uc77c\uc2dd</td>\n      <td>37.556902</td>\n      <td>126.932980</td>\n    </tr>\n    <tr>\n      <th>1</th>\n      <td>\ubd09\uc0b0\uc9d1</td>\n      <td>37.534425</td>\n      <td>126.975008</td>\n    </tr>\n    <tr>\n      <th>2</th>\n      <td>\ucc3d\uace043</td>\n      <td>37.518958</td>\n      <td>126.930746</td>\n    </tr>\n    <tr>\n      <th>3</th>\n      <td>\ub3d5\uac10\uc790\ud0d5</td>\n      <td>37.541487</td>\n      <td>127.069284</td>\n    </tr>\n    <tr>\n      <th>4</th>\n      <td>\ub300\ubcf4\uba85\uac00</td>\n      <td>37.645687</td>\n      <td>127.007157</td>\n    </tr>\n    <tr>\n      <th>5</th>\n      <td>\ud574\ub728\ub294\uc9d1</td>\n      <td>37.590069</td>\n      <td>127.008404</td>\n    </tr>\n    <tr>\n      <th>6</th>\n      <td>\uc544\uc774 \ud574\ube0c\uc5b4 \ub4dc\ub9bc</td>\n      <td>37.498618</td>\n      <td>127.027888</td>\n    </tr>\n    <tr>\n      <th>7</th>\n      <td>\uc544\ud604\ub3d9 \uac04\uc7a5\uac8c\uc7a5</td>\n      <td>37.554600</td>\n      <td>126.956100</td>\n    </tr>\n    <tr>\n      <th>8</th>\n      <td>\uc655\uc18c\uae08\uad6c\uc774</td>\n      <td>37.520409</td>\n      <td>127.036111</td>\n    </tr>\n    <tr>\n      <th>9</th>\n      <td>\ub77c\ud2c0\ub9ac\uc5d0 \ubaa8\ub2c8\ud06c</td>\n      <td>37.526182</td>\n      <td>127.044877</td>\n    </tr>\n    <tr>\n      <th>10</th>\n      <td>\ube44\uc2a4\ud2b8\ub85c \ub529\uace0</td>\n      <td>37.521078</td>\n      <td>127.019810</td>\n    </tr>\n    <tr>\n      <th>11</th>\n      <td>\uc904\ub9ac\uc5d0\ub728</td>\n      <td>37.494720</td>\n      <td>127.000938</td>\n    </tr>\n    <tr>\n      <th>12</th>\n      <td>\ucda9\uc8fc\uc9d1</td>\n      <td>37.586218</td>\n      <td>127.034549</td>\n    </tr>\n    <tr>\n      <th>13</th>\n      <td>\uc601\ud654\ub8e8</td>\n      <td>37.580138</td>\n      <td>126.969040</td>\n    </tr>\n    <tr>\n      <th>14</th>\n      <td>\uc77c\ud488\ud5cc</td>\n      <td>37.484503</td>\n      <td>127.039193</td>\n    </tr>\n    <tr>\n      <th>15</th>\n      <td>\ub9bd\uc2a4\ud14c\uc774\ud06c</td>\n      <td>37.595568</td>\n      <td>126.964069</td>\n    </tr>\n    <tr>\n      <th>16</th>\n      <td>\uc624\uac00\uc640</td>\n      <td>37.572026</td>\n      <td>126.974335</td>\n    </tr>\n    <tr>\n      <th>17</th>\n      <td>\uae4c\uc0ac\ub514\ub178\uc544</td>\n      <td>37.562084</td>\n      <td>126.923556</td>\n    </tr>\n    <tr>\n      <th>18</th>\n      <td>\ucda9\ubb34\ub85c \uc8fc\uafb8\ubbf8 \ubd88\uace0\uae30</td>\n      <td>37.561769</td>\n      <td>126.992197</td>\n    </tr>\n  </tbody>\n</table>\n</div>"
                    },
                    "metadata": {}
                }
            ]
        },
        {
            "metadata": {},
            "cell_type": "markdown",
            "source": "Map locations of the restaurants using folium."
        },
        {
            "metadata": {},
            "cell_type": "code",
            "source": "import numpy as np # library to handle data in a vectorized manner\n\nimport json # library to handle JSON files\n\n!conda install -c conda-forge geopy --yes # uncomment this line if you haven't completed the Foursquare API lab\nfrom geopy.geocoders import Nominatim # convert an address into latitude and longitude values\n\nimport requests # library to handle requests\nfrom pandas.io.json import json_normalize # tranform JSON file into a pandas dataframe\n\n# Matplotlib and associated plotting modules\nimport matplotlib.cm as cm\nimport matplotlib.colors as colors\n\n!conda install -c conda-forge folium=0.5.0 --yes # uncomment this line if you haven't completed the Foursquare API lab\nimport folium # map rendering library\n\nimport csv # implements classes to read and write tabular data in CSV form\n\nprint('Libraries imported.')",
            "execution_count": null,
            "outputs": [
                {
                    "output_type": "stream",
                    "text": "Solving environment: \\ ",
                    "name": "stdout"
                }
            ]
        },
        {
            "metadata": {},
            "cell_type": "markdown",
            "source": "**Use geopy to get latitude and longitude coordinates of Seoul**"
        },
        {
            "metadata": {},
            "cell_type": "code",
            "source": "address = 'Seoul, South Korea'\n\ngeolocator = Nominatim(user_agent=\"Jupyter\")\nlocation = geolocator.geocode(address)\nlatitude = location.latitude\nlongitude = location.longitude\nprint('The geograpical coordinate of Seoul are {}, {}.'.format(latitude, longitude))",
            "execution_count": null,
            "outputs": []
        },
        {
            "metadata": {},
            "cell_type": "code",
            "source": "map_Seoul = folium.Map(location=[latitude, longitude], zoom_start=10)\n\n# add markers to map\nfor lat, lng in zip(seoul_res['lat'], seoul_res['lon']):\n    #label = '{}, {}'.format(neighborhood, borough)\n    label = folium.Popup(label, parse_html=True)\n    folium.CircleMarker(\n        [lat, lng],\n        radius=5,\n        popup=label,\n        color='blue',\n        fill=True,\n        fill_color='#3186cc',\n        fill_opacity=0.7,\n        parse_html=False).add_to(map_Seoul)  \n    \nmap_Seoul",
            "execution_count": null,
            "outputs": []
        }
    ],
    "metadata": {
        "kernelspec": {
            "name": "python3",
            "display_name": "Python 3.6",
            "language": "python"
        },
        "language_info": {
            "name": "python",
            "version": "3.6.9",
            "mimetype": "text/x-python",
            "codemirror_mode": {
                "name": "ipython",
                "version": 3
            },
            "pygments_lexer": "ipython3",
            "nbconvert_exporter": "python",
            "file_extension": ".py"
        }
    },
    "nbformat": 4,
    "nbformat_minor": 1
}