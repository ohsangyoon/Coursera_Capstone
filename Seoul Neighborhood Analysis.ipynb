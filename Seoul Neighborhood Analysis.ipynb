{
    "cells": [
        {
            "metadata": {
                "collapsed": true
            },
            "cell_type": "markdown",
            "source": "# Introduction/Business Problem"
        },
        {
            "metadata": {},
            "cell_type": "markdown",
            "source": "## Where should someone open a restauarnt in Seoul, South Korea to profit the most "
        },
        {
            "metadata": {},
            "cell_type": "markdown",
            "source": "* Research vicinity\n* Research high profile users\n* Explore trends within area\n* How are customers tredning toward specific locations\n* Which types of food are customers gearing toward the most\n* Which specific neighborhoods draw the most customers\n* Which areas should one avoid when starting the business"
        },
        {
            "metadata": {},
            "cell_type": "markdown",
            "source": "# Data Portion"
        },
        {
            "metadata": {},
            "cell_type": "markdown",
            "source": "## How will the data be gathered and analyzed to solve problem posed above"
        },
        {
            "metadata": {},
            "cell_type": "markdown",
            "source": "* Use Foursquare's API to explore venues, users, and trends\n* Use geolocater to locate specific neighborhoods of Seoul\n* Use pandas to scrape data from websites\n* \n* Visualize them using folium maps \n* Cluster neighborhoods using KNN and anlyze cluster"
        },
        {
            "metadata": {},
            "cell_type": "code",
            "source": "",
            "execution_count": null,
            "outputs": []
        }
    ],
    "metadata": {
        "kernelspec": {
            "name": "python3",
            "display_name": "Python 3.6",
            "language": "python"
        },
        "language_info": {
            "name": "python",
            "version": "3.6.9",
            "mimetype": "text/x-python",
            "codemirror_mode": {
                "name": "ipython",
                "version": 3
            },
            "pygments_lexer": "ipython3",
            "nbconvert_exporter": "python",
            "file_extension": ".py"
        }
    },
    "nbformat": 4,
    "nbformat_minor": 1
}